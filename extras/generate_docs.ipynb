{
 "cells": [
  {
   "cell_type": "code",
   "execution_count": 85,
   "source": [
    "from glob import glob\n",
    "import os\n",
    "\n",
    "import numpy as np\n",
    "import matplotlib.pyplot as plt\n",
    "import colormaps as cmaps"
   ],
   "outputs": [],
   "metadata": {}
  },
  {
   "cell_type": "code",
   "execution_count": 86,
   "source": [
    "folders = ['cartocolors','cmocean','colorbrewer','cubehelix','ncar_ncl','scientific','tableau']\n"
   ],
   "outputs": [],
   "metadata": {}
  },
  {
   "cell_type": "code",
   "execution_count": 87,
   "source": [
    "i=0\n",
    "f= open(folders[i] + '.md',\"w+\")\n",
    "header1 = \"--- \\n layout: default \\n title: %s \\n \" %(folders[i])\n",
    "header2 = \"nav_order: %i \\n \" %(i+2)\n",
    "header3 = \"permalink: /docs/%s \\n--- \\n\\n \" %(folders[i])\n"
   ],
   "outputs": [],
   "metadata": {}
  },
  {
   "cell_type": "code",
   "execution_count": 88,
   "source": [
    "main_heading1 = \"# %s \\n\" %(folders[i]) \n",
    "main_heading2 = \"{: .no_toc } \\n\\n ```python \\n import colormaps as cmaps \\n ``` \\n\""
   ],
   "outputs": [],
   "metadata": {}
  },
  {
   "cell_type": "code",
   "execution_count": 89,
   "source": [
    "table_heading1 = \"| Name        | Colormap    | Code       | \\n\"\n",
    "table_heading2 = \"| ----------- | ----------- | -----------| \\n\"\n"
   ],
   "outputs": [],
   "metadata": {}
  },
  {
   "cell_type": "code",
   "execution_count": 90,
   "source": [
    "f.write(header1)\n",
    "f.write(header2)\n",
    "f.write(header3)\n",
    "f.write(main_heading1)\n",
    "f.write(main_heading2)\n",
    "f.write(table_heading1)\n",
    "f.write(table_heading2)"
   ],
   "outputs": [
    {
     "output_type": "execute_result",
     "data": {
      "text/plain": [
       "44"
      ]
     },
     "metadata": {},
     "execution_count": 90
    }
   ],
   "metadata": {}
  },
  {
   "cell_type": "code",
   "execution_count": null,
   "source": [
    "gradient = np.linspace(0, 1, 256)\n",
    "gradient = np.vstack((gradient, gradient))\n",
    "\n",
    "def plot_color_gradients(cname):\n",
    "    # Create figure and adjust figure height to number of colormaps\n",
    "    #nrows = 4\n",
    "    #figh = 0.35 + 0.15 + (nrows + (nrows - 1) * 0.1) * 0.22\n",
    "    fig, axs = plt.subplots(nrows= 1, figsize=(8, 1.5))\n",
    "    #fig.subplots_adjust(top=1 - 0.35 / figh, bottom=0.15 / figh,\n",
    "    #                    left=0.2, right=0.99)\n",
    "    #axs[0].set_title(cmap_category + ' colormaps', fontsize=14)\n",
    "    axs.imshow(gradient, aspect='auto', cmap=eval(\"cmaps.\" + cname))\n",
    "\n",
    "    # Turn off *all* ticks & spines, not just the ones with colormaps.\n",
    "    axs.set_axis_off()\n",
    "    #for ax in axs:"
   ],
   "outputs": [],
   "metadata": {}
  },
  {
   "cell_type": "code",
   "execution_count": 91,
   "source": [
    "for files in sorted(glob('colormaps/colormaps/' + folders[i] + '/*')):\n",
    "    cname = files.split(os.sep)\n",
    "    cname = cname[-1][:-4]\n",
    "    col1 = \"| \" + cname + \"| \"\n",
    "    col2 = \"![\" + cname + \"](/assets/images/\" + folders[i] + \"/\" + cname + \".png | \" \n",
    "    col3 = \"```cmaps.\" + cname + \"``` | \\n\"\n",
    "    f.write(col1 + col2 + col3)\n",
    "\n",
    "    plot_color_gradients(cname)\n",
    "    plt.savefig('/home/ghost/Documents/colormaps/colormaps_doc/assets/images/' + folders[i] + \"/\" + cname + \".png\")\n"
   ],
   "outputs": [],
   "metadata": {}
  },
  {
   "cell_type": "code",
   "execution_count": 92,
   "source": [
    "\n",
    "f.close()"
   ],
   "outputs": [],
   "metadata": {}
  },
  {
   "cell_type": "code",
   "execution_count": 1,
   "source": [
    "from glob import glob\n",
    "import os\n",
    "\n",
    "import numpy as np\n",
    "import matplotlib.pyplot as plt\n",
    "import colormaps as cmaps\n",
    "\n",
    "# Manually put all the folders (May change in future!)\n",
    "folders = ['cartocolors','cmocean','colorbrewer','cubehelix','ncar_ncl','scientific','tableau']\n",
    "\n",
    "# Generating a gradient\n",
    "gradient = np.linspace(0, 1, 256)\n",
    "gradient = np.vstack((gradient, gradient))\n",
    "\n",
    "# Function to plot cmaps\n",
    "def plot_color_gradients(cname):\n",
    "\n",
    "    fig, axs = plt.subplots(nrows= 1, figsize=(8, 1.5))\n",
    "    axs.imshow(gradient, aspect='auto', cmap=eval(\"cmaps.\" + cname))\n",
    "\n",
    "    # Turn off *all* ticks & spines, not just the ones with colormaps.\n",
    "    axs.set_axis_off()\n",
    "\n",
    "# Generate Docs for each folder\n",
    "for i in range(0,len(folders)):\n",
    "\n",
    "    # Open the file\n",
    "    f= open(folders[i] + '.md',\"w+\")\n",
    "\n",
    "    # Writing the headers\n",
    "    header1 = \"--- \\n layout: default \\n title: %s \\n \" %(folders[i])\n",
    "    header2 = \"nav_order: %i \\n \" %(i+2)\n",
    "    header3 = \"permalink: /docs/%s \\n--- \\n\\n \" %(folders[i])\n",
    "\n",
    "    # Writing the main heading\n",
    "    main_heading1 = \"# %s \\n\" %(folders[i]) \n",
    "    main_heading2 = \"{: .no_toc } \\n\\n ```python \\n import colormaps as cmaps \\n ``` \\n\\n\\n\"\n",
    "\n",
    "    # Writing the tables headings\n",
    "    table_heading1 = \"| Name        | Colormap    | Code       | \\n\"\n",
    "    table_heading2 = \"| ----------- | ----------- | -----------| \\n\"\n",
    "\n",
    "    # Finalize all the stuff to the file\n",
    "    f.write(header1)\n",
    "    f.write(header2)\n",
    "    f.write(header3)\n",
    "    f.write(main_heading1)\n",
    "    f.write(main_heading2)\n",
    "    f.write(table_heading1)\n",
    "    f.write(table_heading2)\n",
    "\n",
    "    # Loop for the rows and plotting the cmaps\n",
    "    for files in sorted(glob('colormaps/colormaps/' + folders[i] + '/*')):\n",
    "        print(\"Processing: \" + files)\n",
    "\n",
    "        # Split the filenames\n",
    "        cname = files.split(os.sep)\n",
    "        cname = cname[-1][:-4]\n",
    "\n",
    "        # Writing Row\n",
    "        col1 = \"| \" + cname + \"| \"\n",
    "        col2 = \"![\" + cname + \"](/assets/images/\" + folders[i] + \"/\" + cname + \".png) | \" \n",
    "        col3 = \"```cmaps.\" + cname + \"``` | \\n\"\n",
    "\n",
    "        # Finalie the rows\n",
    "        f.write(col1 + col2 + col3)\n",
    "\n",
    "        # Generate the plot of cmap\n",
    "        plot_color_gradients(cname)\n",
    "\n",
    "        # Save the plot\n",
    "        #os.path.exists()\n",
    "        plt.savefig('/home/ghost/Documents/colormaps/colormaps_doc/assets/images/' + folders[i] + \"/\" + cname + \".png\")\n",
    "\n",
    "    # Close the file \n",
    "    f.close()"
   ],
   "outputs": [
    {
     "output_type": "stream",
     "name": "stdout",
     "text": [
      "Processing: colormaps/colormaps/cartocolors/aggrnyl.rgb\n"
     ]
    },
    {
     "output_type": "error",
     "ename": "TypeError",
     "evalue": "exists() missing 1 required positional argument: 'path'",
     "traceback": [
      "\u001b[0;31m---------------------------------------------------------------------------\u001b[0m",
      "\u001b[0;31mTypeError\u001b[0m                                 Traceback (most recent call last)",
      "\u001b[0;32m<ipython-input-1-1f2a52dd3c90>\u001b[0m in \u001b[0;36m<module>\u001b[0;34m\u001b[0m\n\u001b[1;32m     70\u001b[0m \u001b[0;34m\u001b[0m\u001b[0m\n\u001b[1;32m     71\u001b[0m         \u001b[0;31m# Save the plot\u001b[0m\u001b[0;34m\u001b[0m\u001b[0;34m\u001b[0m\u001b[0;34m\u001b[0m\u001b[0m\n\u001b[0;32m---> 72\u001b[0;31m         \u001b[0mos\u001b[0m\u001b[0;34m.\u001b[0m\u001b[0mpath\u001b[0m\u001b[0;34m.\u001b[0m\u001b[0mexists\u001b[0m\u001b[0;34m(\u001b[0m\u001b[0;34m)\u001b[0m\u001b[0;34m\u001b[0m\u001b[0;34m\u001b[0m\u001b[0m\n\u001b[0m\u001b[1;32m     73\u001b[0m         \u001b[0mplt\u001b[0m\u001b[0;34m.\u001b[0m\u001b[0msavefig\u001b[0m\u001b[0;34m(\u001b[0m\u001b[0;34m'/home/ghost/Documents/colormaps/colormaps_doc/assets/images/'\u001b[0m \u001b[0;34m+\u001b[0m \u001b[0mfolders\u001b[0m\u001b[0;34m[\u001b[0m\u001b[0mi\u001b[0m\u001b[0;34m]\u001b[0m \u001b[0;34m+\u001b[0m \u001b[0;34m\"/\"\u001b[0m \u001b[0;34m+\u001b[0m \u001b[0mcname\u001b[0m \u001b[0;34m+\u001b[0m \u001b[0;34m\".png\"\u001b[0m\u001b[0;34m)\u001b[0m\u001b[0;34m\u001b[0m\u001b[0;34m\u001b[0m\u001b[0m\n\u001b[1;32m     74\u001b[0m \u001b[0;34m\u001b[0m\u001b[0m\n",
      "\u001b[0;31mTypeError\u001b[0m: exists() missing 1 required positional argument: 'path'"
     ]
    },
    {
     "output_type": "display_data",
     "data": {
      "image/png": "[encoded data removed]",
      "text/plain": [
       "<Figure size 576x108 with 1 Axes>"
      ]
     },
     "metadata": {
      "needs_background": "light"
     }
    }
   ],
   "metadata": {}
  }
 ],
 "metadata": {
  "orig_nbformat": 4,
  "language_info": {
   "name": "python",
   "version": "3.9.5",
   "mimetype": "text/x-python",
   "codemirror_mode": {
    "name": "ipython",
    "version": 3
   },
   "pygments_lexer": "ipython3",
   "nbconvert_exporter": "python",
   "file_extension": ".py"
  },
  "kernelspec": {
   "name": "python3",
   "display_name": "Python 3.9.5 64-bit ('cmaps': conda)"
  },
  "interpreter": {
   "hash": "08637a5875d59dc179ebb85fd573b0ad75e3bcc857024a473548c88883002c95"
  }
 },
 "nbformat": 4,
 "nbformat_minor": 2
}