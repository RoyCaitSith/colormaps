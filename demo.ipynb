{
 "cells": [
  {
   "cell_type": "code",
   "execution_count": 1,
   "source": [
    "import colormaps as cmaps"
   ],
   "outputs": [],
   "metadata": {}
  },
  {
   "cell_type": "code",
   "execution_count": 2,
   "source": [
    "cmaps.bamako"
   ],
   "outputs": [
    {
     "output_type": "execute_result",
     "data": {
      "text/html": [
       "<div style=\"vertical-align: middle;\"><strong>bamako</strong> </div><div class=\"cmap\"><img alt=\"bamako colormap\" title=\"bamako\" style=\"border: 1px solid #555;\" src=\"data:image/png;base64,iVBORw0KGgoAAAANSUhEUgAAAgAAAABACAYAAABsv8+/AAAAFXRFWHRUaXRsZQBiYW1ha28gY29sb3JtYXCROoCxAAAAG3RFWHREZXNjcmlwdGlvbgBiYW1ha28gY29sb3JtYXDYrZhVAAAAMHRFWHRBdXRob3IATWF0cGxvdGxpYiB2My40LjIsIGh0dHBzOi8vbWF0cGxvdGxpYi5vcmes1mPdAAAAMnRFWHRTb2Z0d2FyZQBNYXRwbG90bGliIHYzLjQuMiwgaHR0cHM6Ly9tYXRwbG90bGliLm9yZ4Jw/PoAAAIDSURBVHic7dZLcqswFEVRSSPLADL/6TiNYLsQvhbQPWt1eAj0SXiV2r39/D5aa623f/35j/Zot8a3+9fzbbz1/f173mK87/er9mmH94r5p9+rznXxvfmch/H597M/z3ubk+v3+ftM68zP784rz7E657nvvN7/+3e9e97D+ZbrFuderl+sU807e47b637fbyzXv/b+qPZt8/NpXvHzH96v5k3Xcfh71aZ95vE+jfeP4+/7+fnY9l2M92p8LMb396/rmNfbX/tY7DPG5/HD/P055vm9ml9c6+f967z6enbe8wMXz9tqnf3z4zrb83Z1/rTvYf61fZ//zwGAIAIAAAIJAAAIJAAAIJAAAIBAAgAAAgkAAAgkAAAgkAAAgEACAAACCQAACCQAACCQAACAQAIAAAIJAAAIJAAAIJAAAIBAAgAAAgkAAAgkAAAgkAAAgEACAAACCQAACCQAACCQAACAQAIAAAIJAAAIJAAAIJAAAIBAAgAAAgkAAAgkAAAgkAAAgEACAAACCQAACCQAACCQAACAQAIAAAIJAAAIJAAAIJAAAIBAAgAAAgkAAAgkAAAgkAAAgEACAAACCQAACCQAACCQAACAQAIAAAIJAAAIJAAAIJAAAIBAAgAAAgkAAAgkAAAgkAAAgEACAAACCQAACCQAACCQAACAQAIAAAIJAAAI9Acp3Ez8kHYsWQAAAABJRU5ErkJggg==\"></div><div style=\"vertical-align: middle; max-width: 514px; display: flex; justify-content: space-between;\"><div style=\"float: left;\"><div title=\"#00404cff\" style=\"display: inline-block; width: 1em; height: 1em; margin: 0; vertical-align: middle; border: 1px solid #555; background-color: #00404cff;\"></div> under</div><div style=\"margin: 0 auto; display: inline-block;\">bad <div title=\"#00000000\" style=\"display: inline-block; width: 1em; height: 1em; margin: 0; vertical-align: middle; border: 1px solid #555; background-color: #00000000;\"></div></div><div style=\"float: right;\">over <div title=\"#ffe599ff\" style=\"display: inline-block; width: 1em; height: 1em; margin: 0; vertical-align: middle; border: 1px solid #555; background-color: #ffe599ff;\"></div></div>"
      ],
      "image/png": "[encoded data removed]",
      "text/plain": [
       "<colormaps.colormap.Colormap at 0x7f90b5c2cfa0>"
      ]
     },
     "metadata": {},
     "execution_count": 2
    }
   ],
   "metadata": {}
  },
  {
   "cell_type": "code",
   "execution_count": 3,
   "source": [
    "cmaps.Cat12"
   ],
   "outputs": [
    {
     "output_type": "execute_result",
     "data": {
      "text/html": [
       "<div style=\"vertical-align: middle;\"><strong>Cat12</strong> </div><div class=\"cmap\"><img alt=\"Cat12 colormap\" title=\"Cat12\" style=\"border: 1px solid #555;\" src=\"data:image/png;base64,iVBORw0KGgoAAAANSUhEUgAAAgAAAABACAYAAABsv8+/AAAAFHRFWHRUaXRsZQBDYXQxMiBjb2xvcm1hcH5CB14AAAAadEVYdERlc2NyaXB0aW9uAENhdDEyIGNvbG9ybWFwgB2uuAAAADB0RVh0QXV0aG9yAE1hdHBsb3RsaWIgdjMuNC4yLCBodHRwczovL21hdHBsb3RsaWIub3JnrNZj3QAAADJ0RVh0U29mdHdhcmUATWF0cGxvdGxpYiB2My40LjIsIGh0dHBzOi8vbWF0cGxvdGxpYi5vcmeCcPz6AAABd0lEQVR4nO3WMVEDYRhF0YUeaRjARtKzCEBAsBEBSYMVSiwEC3/FNzv3HAWveTP36XF7f2xHcf+YXrBuv0wvWHSUndt23d6mJyzZt/P0hGWn3+Pc//w9vWDN9WV6wbrL5/SCNV+v9+kJy3720/SEZc/TAwCA/ycAACBIAABAkAAAgCABAABBAgAAggQAAAQJAAAIEgAAECQAACBIAABAkAAAgCABAABBAgAAggQAAAQJAAAIEgAAECQAACBIAABAkAAAgCABAABBAgAAggQAAAQJAAAIEgAAECQAACBIAABAkAAAgCABAABBAgAAggQAAAQJAAAIEgAAECQAACBIAABAkAAAgCABAABBAgAAggQAAAQJAAAIEgAAECQAACBIAABAkAAAgCABAABBAgAAggQAAAQJAAAIEgAAECQAACBIAABAkAAAgCABAABBAgAAggQAAAQJAAAIEgAAECQAACBIAABAkAAAgCABAABBAgAAggQAAAT9AR8lEa/wKe8CAAAAAElFTkSuQmCC\"></div><div style=\"vertical-align: middle; max-width: 514px; display: flex; justify-content: space-between;\"><div style=\"float: left;\"><div title=\"#ffbf7fff\" style=\"display: inline-block; width: 1em; height: 1em; margin: 0; vertical-align: middle; border: 1px solid #555; background-color: #ffbf7fff;\"></div> under</div><div style=\"margin: 0 auto; display: inline-block;\">bad <div title=\"#00000000\" style=\"display: inline-block; width: 1em; height: 1em; margin: 0; vertical-align: middle; border: 1px solid #555; background-color: #00000000;\"></div></div><div style=\"float: right;\">over <div title=\"#e51932ff\" style=\"display: inline-block; width: 1em; height: 1em; margin: 0; vertical-align: middle; border: 1px solid #555; background-color: #e51932ff;\"></div></div>"
      ],
      "image/png": "[encoded data removed]",
      "text/plain": [
       "<colormaps.colormap.Colormap at 0x7f90b5bd0f70>"
      ]
     },
     "metadata": {},
     "execution_count": 3
    }
   ],
   "metadata": {}
  },
  {
   "cell_type": "code",
   "execution_count": 4,
   "source": [
    "cmaps.MPL_Set1"
   ],
   "outputs": [
    {
     "output_type": "execute_result",
     "data": {
      "text/html": [
       "<div style=\"vertical-align: middle;\"><strong>MPL_Set1</strong> </div><div class=\"cmap\"><img alt=\"MPL_Set1 colormap\" title=\"MPL_Set1\" style=\"border: 1px solid #555;\" src=\"data:image/png;base64,iVBORw0KGgoAAAANSUhEUgAAAgAAAABACAYAAABsv8+/AAAAF3RFWHRUaXRsZQBNUExfU2V0MSBjb2xvcm1hcJTwnYoAAAAddEVYdERlc2NyaXB0aW9uAE1QTF9TZXQxIGNvbG9ybWFwvY56owAAADB0RVh0QXV0aG9yAE1hdHBsb3RsaWIgdjMuNC4yLCBodHRwczovL21hdHBsb3RsaWIub3JnrNZj3QAAADJ0RVh0U29mdHdhcmUATWF0cGxvdGxpYiB2My40LjIsIGh0dHBzOi8vbWF0cGxvdGxpYi5vcmeCcPz6AAACXklEQVR4nO3WTW7TUBSGYf8laSsEK0Bi/4tiDWWQlCakZco5lmxVZfY9z+z0Xl9bcVK948/vP96Hf5yPT8PWfOnrp77/cfP69f463+ZDmZ8fv5b5uvT1b3V95/pbu/5yOpZ5ml+H+oc/dVwuba77x3b9ON7r/sN5c//q/qvr2/37/fq88/zz21jmw/XY5vp5HV7r+tLW5/tc5tPLQ9vfz9++33p/e562PvX7X+r9+/7jeK3zXD+fU5v31ud23tPh1wfPP++st7m9z2W8lfnx8Lx53nQaqod5Z14+uP8/n7fU7+vwpX4fPnr+rf3cruf3un7ZWW/z9dLm+jqH22q9n9fu1/bf6+sdfj/vndefr16/jO33Mdf/34fpaXt9buvT9vrxk+dPY32fD0v9/756np373aa3Ml/HNk/3nfV+fd3/+fPr+n2s7/NldX2b2/3780wDABBHAABAIAEAAIEEAAAEEgAAEEgAAEAgAQAAgQQAAAQSAAAQSAAAQCABAACBBAAABBIAABBIAABAIAEAAIEEAAAEEgAAEEgAAEAgAQAAgQQAAAQSAAAQSAAAQCABAACBBAAABBIAABBIAABAIAEAAIEEAAAEEgAAEEgAAEAgAQAAgQQAAAQSAAAQSAAAQCABAACBBAAABBIAABBIAABAIAEAAIEEAAAEEgAAEEgAAEAgAQAAgQQAAAQSAAAQSAAAQCABAACBBAAABBIAABBIAABAIAEAAIEEAAAEEgAAEEgAAEAgAQAAgQQAAAQSAAAQSAAAQCABAACBBAAABBIAABBIAABAIAEAAIH+Aq8rjErzBAToAAAAAElFTkSuQmCC\"></div><div style=\"vertical-align: middle; max-width: 514px; display: flex; justify-content: space-between;\"><div style=\"float: left;\"><div title=\"#df1d21ff\" style=\"display: inline-block; width: 1em; height: 1em; margin: 0; vertical-align: middle; border: 1px solid #555; background-color: #df1d21ff;\"></div> under</div><div style=\"margin: 0 auto; display: inline-block;\">bad <div title=\"#00000000\" style=\"display: inline-block; width: 1em; height: 1em; margin: 0; vertical-align: middle; border: 1px solid #555; background-color: #00000000;\"></div></div><div style=\"float: right;\">over <div title=\"#999999ff\" style=\"display: inline-block; width: 1em; height: 1em; margin: 0; vertical-align: middle; border: 1px solid #555; background-color: #999999ff;\"></div></div>"
      ],
      "image/png": "[encoded data removed]",
      "text/plain": [
       "<colormaps.colormap.Colormap at 0x7f90b5b62160>"
      ]
     },
     "metadata": {},
     "execution_count": 4
    }
   ],
   "metadata": {}
  },
  {
   "cell_type": "code",
   "execution_count": 5,
   "source": [
    "cmaps.BkBlAqGrYeOrReViWh200"
   ],
   "outputs": [
    {
     "output_type": "execute_result",
     "data": {
      "text/html": [
       "<div style=\"vertical-align: middle;\"><strong>BkBlAqGrYeOrReViWh200</strong> </div><div class=\"cmap\"><img alt=\"BkBlAqGrYeOrReViWh200 colormap\" title=\"BkBlAqGrYeOrReViWh200\" style=\"border: 1px solid #555;\" src=\"data:image/png;base64,iVBORw0KGgoAAAANSUhEUgAAAgAAAABACAYAAABsv8+/AAAAJHRFWHRUaXRsZQBCa0JsQXFHclllT3JSZVZpV2gyMDAgY29sb3JtYXDOfTjlAAAAKnRFWHREZXNjcmlwdGlvbgBCa0JsQXFHclllT3JSZVZpV2gyMDAgY29sb3JtYXDZh8JwAAAAMHRFWHRBdXRob3IATWF0cGxvdGxpYiB2My40LjIsIGh0dHBzOi8vbWF0cGxvdGxpYi5vcmes1mPdAAAAMnRFWHRTb2Z0d2FyZQBNYXRwbG90bGliIHYzLjQuMiwgaHR0cHM6Ly9tYXRwbG90bGliLm9yZ4Jw/PoAAAIcSURBVHic7dbNTipBFIXRwxU1NO//qt5gIDgQTHWqaBp0tteaQE79dMPo21TVuX5M1X/fD2ajfe1sv7DvmTNr3+uZM9Pi6M9//q2/5C9+/r2/+96Z00dVVW1O/7tZNbPNdXZvfXDP/Oxl/TiYze7p14f3NLOld/he789ML+fLZy3Odj+zc7Nv+cy0cGa37WfzfffW+9lu5W9pz9Tx8nmqfnYczNbua/eO1n+z77fveLh8fg5m7fwwWB+dGc1G9z1zZu17PXDmUK+XpbdudhjM2r3t7Lr3cza7fc/oee3e+fMeu+eR936fvr+/Tc1sv52t3dw3bZszo/XXft/1nv26fe2d7/v+2ePn9b9ltK+q6l8BAHEEAAAEEgAAEEgAAEAgAQAAgQQAAAQSAAAQSAAAQCABAACBBAAABBIAABBIAABAIAEAAIEEAAAEEgAAEEgAAEAgAQAAgQQAAAQSAAAQSAAAQCABAACBBAAABBIAABBIAABAIAEAAIEEAAAEEgAAEEgAAEAgAQAAgQQAAAQSAAAQSAAAQCABAACBBAAABBIAABBIAABAIAEAAIEEAAAEEgAAEEgAAEAgAQAAgQQAAAQSAAAQSAAAQCABAACBBAAABBIAABBIAABAIAEAAIEEAAAEEgAAEEgAAEAgAQAAgQQAAAQSAAAQSAAAQCABAACBBAAABBIAABBIAABAIAEAAIEEAAAEEgAAEOgLZEiPfKV43OYAAAAASUVORK5CYII=\"></div><div style=\"vertical-align: middle; max-width: 514px; display: flex; justify-content: space-between;\"><div style=\"float: left;\"><div title=\"#000000ff\" style=\"display: inline-block; width: 1em; height: 1em; margin: 0; vertical-align: middle; border: 1px solid #555; background-color: #000000ff;\"></div> under</div><div style=\"margin: 0 auto; display: inline-block;\">bad <div title=\"#00000000\" style=\"display: inline-block; width: 1em; height: 1em; margin: 0; vertical-align: middle; border: 1px solid #555; background-color: #00000000;\"></div></div><div style=\"float: right;\">over <div title=\"#ffffffff\" style=\"display: inline-block; width: 1em; height: 1em; margin: 0; vertical-align: middle; border: 1px solid #555; background-color: #ffffffff;\"></div></div>"
      ],
      "image/png": "[encoded data removed]",
      "text/plain": [
       "<colormaps.colormap.Colormap at 0x7f9130438550>"
      ]
     },
     "metadata": {},
     "execution_count": 5
    }
   ],
   "metadata": {}
  },
  {
   "cell_type": "code",
   "execution_count": 6,
   "source": [
    "cmaps.drought_severity"
   ],
   "outputs": [
    {
     "output_type": "execute_result",
     "data": {
      "text/html": [
       "<div style=\"vertical-align: middle;\"><strong>drought_severity</strong> </div><div class=\"cmap\"><img alt=\"drought_severity colormap\" title=\"drought_severity\" style=\"border: 1px solid #555;\" src=\"data:image/png;base64,iVBORw0KGgoAAAANSUhEUgAAAgAAAABACAYAAABsv8+/AAAAH3RFWHRUaXRsZQBkcm91Z2h0X3NldmVyaXR5IGNvbG9ybWFwygDy7wAAACV0RVh0RGVzY3JpcHRpb24AZHJvdWdodF9zZXZlcml0eSBjb2xvcm1hcBfHMs8AAAAwdEVYdEF1dGhvcgBNYXRwbG90bGliIHYzLjQuMiwgaHR0cHM6Ly9tYXRwbG90bGliLm9yZ6zWY90AAAAydEVYdFNvZnR3YXJlAE1hdHBsb3RsaWIgdjMuNC4yLCBodHRwczovL21hdHBsb3RsaWIub3JngnD8+gAAAWJJREFUeJzt1rGVQVEAAFG2CxkrVIQSNKAJ1ehACZtuSBuKEP5DB0LvO3NvBRPOcnE+Phe8dfpdjU6YvcN6Mzph9vbb3eiE2Zuuf6MTvsL0fxudMGuPy310wlf4GR0AAHyeAQCAIAMAAEEGAACCDAAABBkAAAgyAAAQZAAAIMgAAECQAQCAIAMAAEEGAACCDAAABBkAAAgyAAAQZAAAIMgAAECQAQCAIAMAAEEGAACCDAAABBkAAAgyAAAQZAAAIMgAAECQAQCAIAMAAEEGAACCDAAABBkAAAgyAAAQZAAAIMgAAECQAQCAIAMAAEEGAACCDAAABBkAAAgyAAAQZAAAIMgAAECQAQCAIAMAAEEGAACCDAAABBkAAAgyAAAQZAAAIMgAAECQAQCAIAMAAEEGAACCDAAABBkAAAgyAAAQZAAAIMgAAECQAQCAIAMAAEEGAACCDAAABBkAAAgyAAAQ9AJ76Qu1U7G8lQAAAABJRU5ErkJggg==\"></div><div style=\"vertical-align: middle; max-width: 514px; display: flex; justify-content: space-between;\"><div style=\"float: left;\"><div title=\"#00975cff\" style=\"display: inline-block; width: 1em; height: 1em; margin: 0; vertical-align: middle; border: 1px solid #555; background-color: #00975cff;\"></div> under</div><div style=\"margin: 0 auto; display: inline-block;\">bad <div title=\"#00000000\" style=\"display: inline-block; width: 1em; height: 1em; margin: 0; vertical-align: middle; border: 1px solid #555; background-color: #00000000;\"></div></div><div style=\"float: right;\">over <div title=\"#ee2820ff\" style=\"display: inline-block; width: 1em; height: 1em; margin: 0; vertical-align: middle; border: 1px solid #555; background-color: #ee2820ff;\"></div></div>"
      ],
      "image/png": "[encoded data removed]",
      "text/plain": [
       "<colormaps.colormap.Colormap at 0x7f913042ca90>"
      ]
     },
     "metadata": {},
     "execution_count": 6
    }
   ],
   "metadata": {}
  },
  {
   "cell_type": "code",
   "execution_count": 7,
   "source": [
    "cmaps.ice"
   ],
   "outputs": [
    {
     "output_type": "execute_result",
     "data": {
      "text/html": [
       "<div style=\"vertical-align: middle;\"><strong>ice</strong> </div><div class=\"cmap\"><img alt=\"ice colormap\" title=\"ice\" style=\"border: 1px solid #555;\" src=\"data:image/png;base64,iVBORw0KGgoAAAANSUhEUgAAAgAAAABACAYAAABsv8+/AAAAEnRFWHRUaXRsZQBpY2UgY29sb3JtYXAV/vw0AAAAGHRFWHREZXNjcmlwdGlvbgBpY2UgY29sb3JtYXAZ1o5uAAAAMHRFWHRBdXRob3IATWF0cGxvdGxpYiB2My40LjIsIGh0dHBzOi8vbWF0cGxvdGxpYi5vcmes1mPdAAAAMnRFWHRTb2Z0d2FyZQBNYXRwbG90bGliIHYzLjQuMiwgaHR0cHM6Ly9tYXRwbG90bGliLm9yZ4Jw/PoAAAH8SURBVHic7dZLUuswFEXRaxXFBJj/WEPHMeXPRU6gd9bquCRbn/BeYy8fn1+PqqqllqqqqmVZH2N93hzXu+uO76+/q+f47jmnfcf+9zXvu/XVvn/tnj/vu/tdn3P+d1nnT+dc/87Tvsfz6vg79/uc5ut6n+M9+/nl8n21++//f9Zo5rvvX3w+tnPurqvr+dHMn75/Dmfr9+NlG0/2G4fxYd1x/jxuzh3X91ia+92d787fvhv31s/Pube+3Xe8t9/447nP8bbP5B7def38bPz7/t14/Nv79VnN/Gn9ZJ/J++k+1e3Xrb93n37d5Ptx8+9RAEAcAQAAgQQAAAQSAAAQSAAAQCABAACBBAAABBIAABBIAABAIAEAAIEEAAAEEgAAEEgAAEAgAQAAgQQAAAQSAAAQSAAAQCABAACBBAAABBIAABBIAABAIAEAAIEEAAAEEgAAEEgAAEAgAQAAgQQAAAQSAAAQSAAAQCABAACBBAAABBIAABBIAABAIAEAAIEEAAAEEgAAEEgAAEAgAQAAgQQAAAQSAAAQSAAAQCABAACBBAAABBIAABBIAABAIAEAAIEEAAAEEgAAEEgAAEAgAQAAgQQAAAQSAAAQSAAAQCABAACBBAAABBIAABBIAABAIAEAAIEEAAAEEgAAEEgAAEAgAQAAgQQAAAT6Bl3eBWPOXg52AAAAAElFTkSuQmCC\"></div><div style=\"vertical-align: middle; max-width: 514px; display: flex; justify-content: space-between;\"><div style=\"float: left;\"><div title=\"#040613ff\" style=\"display: inline-block; width: 1em; height: 1em; margin: 0; vertical-align: middle; border: 1px solid #555; background-color: #040613ff;\"></div> under</div><div style=\"margin: 0 auto; display: inline-block;\">bad <div title=\"#00000000\" style=\"display: inline-block; width: 1em; height: 1em; margin: 0; vertical-align: middle; border: 1px solid #555; background-color: #00000000;\"></div></div><div style=\"float: right;\">over <div title=\"#eafdfdff\" style=\"display: inline-block; width: 1em; height: 1em; margin: 0; vertical-align: middle; border: 1px solid #555; background-color: #eafdfdff;\"></div></div>"
      ],
      "image/png": "[encoded data removed]",
      "text/plain": [
       "<colormaps.colormap.Colormap at 0x7f90b5b620a0>"
      ]
     },
     "metadata": {},
     "execution_count": 7
    }
   ],
   "metadata": {}
  },
  {
   "cell_type": "code",
   "execution_count": 8,
   "source": [
    "cmaps.ice.discrete(10)"
   ],
   "outputs": [
    {
     "output_type": "execute_result",
     "data": {
      "text/html": [
       "<div style=\"vertical-align: middle;\"><strong>sliced_ice</strong> </div><div class=\"cmap\"><img alt=\"sliced_ice colormap\" title=\"sliced_ice\" style=\"border: 1px solid #555;\" src=\"data:image/png;base64,iVBORw0KGgoAAAANSUhEUgAAAgAAAABACAYAAABsv8+/AAAAGXRFWHRUaXRsZQBzbGljZWRfaWNlIGNvbG9ybWFw8hvZ4QAAAB90RVh0RGVzY3JpcHRpb24Ac2xpY2VkX2ljZSBjb2xvcm1hcIgzGK8AAAAwdEVYdEF1dGhvcgBNYXRwbG90bGliIHYzLjQuMiwgaHR0cHM6Ly9tYXRwbG90bGliLm9yZ6zWY90AAAAydEVYdFNvZnR3YXJlAE1hdHBsb3RsaWIgdjMuNC4yLCBodHRwczovL21hdHBsb3RsaWIub3JngnD8+gAAAXJJREFUeJzt1kFKQ0EURcFWxEkyEEJQI+GDowwEQXD/S4ubaGz4p2oFFx4PzsPT8+k+duTyels9YZrz+Wv1hGmO79+rJ0xz3y6rJ0xz2I6rJ0zzth1WT5jm87qfu/x8vKyeMM3vdT+/P8YYj6sHAAD/TwAAQJAAAIAgAQAAQQIAAIIEAAAECQAACBIAABAkAAAgSAAAQJAAAIAgAQAAQQIAAIIEAAAECQAACBIAABAkAAAgSAAAQJAAAIAgAQAAQQIAAIIEAAAECQAACBIAABAkAAAgSAAAQJAAAIAgAQAAQQIAAIIEAAAECQAACBIAABAkAAAgSAAAQJAAAIAgAQAAQQIAAIIEAAAECQAACBIAABAkAAAgSAAAQJAAAIAgAQAAQQIAAIIEAAAECQAACBIAABAkAAAgSAAAQJAAAIAgAQAAQQIAAIIEAAAECQAACBIAABAkAAAgSAAAQJAAAIAgAQAAQQIAAIIEAAAECQAACPoDQLIFYygnQkEAAAAASUVORK5CYII=\"></div><div style=\"vertical-align: middle; max-width: 514px; display: flex; justify-content: space-between;\"><div style=\"float: left;\"><div title=\"#040613ff\" style=\"display: inline-block; width: 1em; height: 1em; margin: 0; vertical-align: middle; border: 1px solid #555; background-color: #040613ff;\"></div> under</div><div style=\"margin: 0 auto; display: inline-block;\">bad <div title=\"#00000000\" style=\"display: inline-block; width: 1em; height: 1em; margin: 0; vertical-align: middle; border: 1px solid #555; background-color: #00000000;\"></div></div><div style=\"float: right;\">over <div title=\"#eafdfdff\" style=\"display: inline-block; width: 1em; height: 1em; margin: 0; vertical-align: middle; border: 1px solid #555; background-color: #eafdfdff;\"></div></div>"
      ],
      "image/png": "[encoded data removed]",
      "text/plain": [
       "<colormaps.colormap.Colormap at 0x7f90b5b62070>"
      ]
     },
     "metadata": {},
     "execution_count": 8
    }
   ],
   "metadata": {}
  },
  {
   "cell_type": "code",
   "execution_count": 18,
   "source": [
    "import numpy as np\n",
    "import matplotlib.pyplot as plt\n",
    "\n",
    "gradient = np.linspace(0, 1, 256)\n",
    "gradient = np.vstack((gradient, gradient))\n",
    "\n",
    "def plot_color_gradients(cname):\n",
    "    fig, axs = plt.subplots(nrows= 1, figsize=(8, 1.5))\n",
    "    axs.imshow(gradient, aspect='auto', cmap=eval(\"cmaps.\" + cname))\n",
    "\n",
    "    # Turn off *all* ticks & spines, not just the ones with colormaps.\n",
    "    axs.set_axis_off()\n",
    "\n",
    "plot_color_gradients('ice.discrete(10)')\n",
    "plt.savefig('/home/ghost/Documents/colormaps/colormaps_doc/assets/images/demo/ice_discrete_10.png')"
   ],
   "outputs": [
    {
     "output_type": "display_data",
     "data": {
      "image/png": "[encoded data removed]",
      "text/plain": [
       "<Figure size 576x108 with 1 Axes>"
      ]
     },
     "metadata": {
      "needs_background": "light"
     }
    }
   ],
   "metadata": {}
  },
  {
   "cell_type": "code",
   "execution_count": 19,
   "source": [
    "cmaps.ice.shift(0.5)\n",
    "plot_color_gradients('ice.shift(0.5)')\n",
    "plt.savefig('/home/ghost/Documents/colormaps/colormaps_doc/assets/images/demo/ice_shift_0_5.png')"
   ],
   "outputs": [
    {
     "output_type": "display_data",
     "data": {
      "image/png": "[encoded data removed]",
      "text/plain": [
       "<Figure size 576x108 with 1 Axes>"
      ]
     },
     "metadata": {
      "needs_background": "light"
     }
    }
   ],
   "metadata": {}
  },
  {
   "cell_type": "code",
   "execution_count": 20,
   "source": [
    "cmaps.ice.shift(0.5).discrete(10)\n",
    "plot_color_gradients('ice.shift(0.5).discrete(10)')\n",
    "plt.savefig('/home/ghost/Documents/colormaps/colormaps_doc/assets/images/demo/ice_shift_0_5_discrete_10.png')"
   ],
   "outputs": [
    {
     "output_type": "display_data",
     "data": {
      "image/png": "[encoded data removed]",
      "text/plain": [
       "<Figure size 576x108 with 1 Axes>"
      ]
     },
     "metadata": {
      "needs_background": "light"
     }
    }
   ],
   "metadata": {}
  },
  {
   "cell_type": "code",
   "execution_count": 11,
   "source": [
    "cmaps.balance.discrete(11)"
   ],
   "outputs": [
    {
     "output_type": "execute_result",
     "data": {
      "text/html": [
       "<div style=\"vertical-align: middle;\"><strong>sliced_balance</strong> </div><div class=\"cmap\"><img alt=\"sliced_balance colormap\" title=\"sliced_balance\" style=\"border: 1px solid #555;\" src=\"data:image/png;base64,iVBORw0KGgoAAAANSUhEUgAAAgAAAABACAYAAABsv8+/AAAAHXRFWHRUaXRsZQBzbGljZWRfYmFsYW5jZSBjb2xvcm1hcLa73owAAAAjdEVYdERlc2NyaXB0aW9uAHNsaWNlZF9iYWxhbmNlIGNvbG9ybWFwsJA7fQAAADB0RVh0QXV0aG9yAE1hdHBsb3RsaWIgdjMuNC4yLCBodHRwczovL21hdHBsb3RsaWIub3JnrNZj3QAAADJ0RVh0U29mdHdhcmUATWF0cGxvdGxpYiB2My40LjIsIGh0dHBzOi8vbWF0cGxvdGxpYi5vcmeCcPz6AAABgElEQVR4nO3WOy4FYBhFUY8J0Ck0JBSiMoVbqCUGSyLREYXWHG6ECSiYw1/4crPXGsEpTrH3T043v3s76vj8fnrCkq+bi+kJyzbXu3mXu8uj6QnLbq/Opics+Xx5mJ6w7Pv1cXrCku3z2/SEZe8fh9MTljz9bKcnLDuYHgAA/D8BAABBAgAAggQAAAQJAAAIEgAAECQAACBIAABAkAAAgCABAABBAgAAggQAAAQJAAAIEgAAECQAACBIAABAkAAAgCABAABBAgAAggQAAAQJAAAIEgAAECQAACBIAABAkAAAgCABAABBAgAAggQAAAQJAAAIEgAAECQAACBIAABAkAAAgCABAABBAgAAggQAAAQJAAAIEgAAECQAACBIAABAkAAAgCABAABBAgAAggQAAAQJAAAIEgAAECQAACBIAABAkAAAgCABAABBAgAAggQAAAQJAAAIEgAAECQAACBIAABAkAAAgCABAABBAgAAggQAAAQJAAAIEgAAECQAACDoD2dAEdZWhcS7AAAAAElFTkSuQmCC\"></div><div style=\"vertical-align: middle; max-width: 514px; display: flex; justify-content: space-between;\"><div style=\"float: left;\"><div title=\"#181c43ff\" style=\"display: inline-block; width: 1em; height: 1em; margin: 0; vertical-align: middle; border: 1px solid #555; background-color: #181c43ff;\"></div> under</div><div style=\"margin: 0 auto; display: inline-block;\">bad <div title=\"#00000000\" style=\"display: inline-block; width: 1em; height: 1em; margin: 0; vertical-align: middle; border: 1px solid #555; background-color: #00000000;\"></div></div><div style=\"float: right;\">over <div title=\"#3c0912ff\" style=\"display: inline-block; width: 1em; height: 1em; margin: 0; vertical-align: middle; border: 1px solid #555; background-color: #3c0912ff;\"></div></div>"
      ],
      "image/png": "[encoded data removed]",
      "text/plain": [
       "<colormaps.colormap.Colormap at 0x7f90b5b621c0>"
      ]
     },
     "metadata": {},
     "execution_count": 11
    }
   ],
   "metadata": {}
  },
  {
   "cell_type": "code",
   "execution_count": 22,
   "source": [
    "cmaps.ice.discrete(11).cut(0.25, 'left')\n",
    "plot_color_gradients(\"ice.discrete(11).cut(0.25, 'left')\")\n",
    "plt.savefig('/home/ghost/Documents/colormaps/colormaps_doc/assets/images/demo/ice_discrete_11_cut_0.25.png')"
   ],
   "outputs": [
    {
     "output_type": "display_data",
     "data": {
      "image/png": "[encoded data removed]",
      "text/plain": [
       "<Figure size 576x108 with 1 Axes>"
      ]
     },
     "metadata": {
      "needs_background": "light"
     }
    }
   ],
   "metadata": {}
  },
  {
   "cell_type": "code",
   "execution_count": 30,
   "source": [
    "from colormaps.utils import concat\n",
    "concat1 = concat([\"cmocean_ice\", \"BkBlAqGrYeOrReViWh200\"])\n",
    "\n",
    "fig, axs = plt.subplots(nrows= 1, figsize=(8, 1.5))\n",
    "axs.imshow(gradient, aspect='auto', cmap=concat1)\n",
    "axs.set_axis_off()\n",
    "#plot_color_gradients(\"concat1\")\n",
    "plt.savefig('/home/ghost/Documents/colormaps/colormaps_doc/assets/images/demo/concat_1.png')"
   ],
   "outputs": [
    {
     "output_type": "display_data",
     "data": {
      "image/png": "[encoded data removed]",
      "text/plain": [
       "<Figure size 576x108 with 1 Axes>"
      ]
     },
     "metadata": {
      "needs_background": "light"
     }
    }
   ],
   "metadata": {}
  },
  {
   "cell_type": "code",
   "execution_count": null,
   "source": [
    ", ratios=[0.25,0.75]"
   ],
   "outputs": [],
   "metadata": {}
  },
  {
   "cell_type": "code",
   "execution_count": 31,
   "source": [
    "import colormaps as cmaps\n",
    "concat2 = concat([cmaps.cmocean_ice, cmaps.BkBlAqGrYeOrReViWh200], ratios=[0.25,0.75])\n",
    "fig, axs = plt.subplots(nrows= 1, figsize=(8, 1.5))\n",
    "axs.imshow(gradient, aspect='auto', cmap=concat2)\n",
    "axs.set_axis_off()\n",
    "#plot_color_gradients(\"concat1\")\n",
    "plt.savefig('/home/ghost/Documents/colormaps/colormaps_doc/assets/images/demo/concat_2.png')"
   ],
   "outputs": [
    {
     "output_type": "display_data",
     "data": {
      "image/png": "[encoded data removed]",
      "text/plain": [
       "<Figure size 576x108 with 1 Axes>"
      ]
     },
     "metadata": {
      "needs_background": "light"
     }
    }
   ],
   "metadata": {}
  },
  {
   "cell_type": "code",
   "execution_count": 15,
   "source": [
    "from cycler import cycler\n",
    "\n",
    "x = np.linspace(0, 2 * np.pi)\n",
    "offsets = np.linspace(0, 2*np.pi, 4, endpoint=False)\n",
    "# Create array with shifted-sine curve along each column\n",
    "yy = np.transpose([np.sin(x + phi) for phi in offsets])\n",
    "\n",
    "# 1. Setting prop cycle on default rc parameter\n",
    "plt.rc('lines', linewidth=4)\n",
    "plt.rc('axes', prop_cycle=(cycler('color', ['r', 'g', 'b', 'y']) +\n",
    "                           cycler('linestyle', ['-', '--', ':', '-.'])))\n",
    "fig, (ax0, ax1) = plt.subplots(nrows=2)\n",
    "ax0.plot(yy)\n",
    "ax0.set_title('Set default color cycle to rgby')\n",
    "\n",
    "# 2. Define prop cycle for single set of axes\n",
    "#ax1.set_prop_cycle(cycler('color', ['c', 'm', 'y', 'k']) +\n",
    "#                   cycler('lw', [1, 2, 3, 4]))\n",
    "ax1.set_prop_cycle(cycler('color', cmaps.dark2_8.colors))                   \n",
    "ax1.plot(yy)\n",
    "ax1.set_title('Set axes color cycle to cmyk')\n",
    "\n",
    "# Tweak spacing between subplots to prevent labels from overlapping\n",
    "fig.subplots_adjust(hspace=0.5)\n",
    "plt.show()"
   ],
   "outputs": [
    {
     "output_type": "error",
     "ename": "NameError",
     "evalue": "name 'np' is not defined",
     "traceback": [
      "\u001b[0;31m---------------------------------------------------------------------------\u001b[0m",
      "\u001b[0;31mNameError\u001b[0m                                 Traceback (most recent call last)",
      "\u001b[0;32m<ipython-input-15-3d7bb0203806>\u001b[0m in \u001b[0;36m<module>\u001b[0;34m\u001b[0m\n\u001b[1;32m      1\u001b[0m \u001b[0;32mfrom\u001b[0m \u001b[0mcycler\u001b[0m \u001b[0;32mimport\u001b[0m \u001b[0mcycler\u001b[0m\u001b[0;34m\u001b[0m\u001b[0;34m\u001b[0m\u001b[0m\n\u001b[1;32m      2\u001b[0m \u001b[0;34m\u001b[0m\u001b[0m\n\u001b[0;32m----> 3\u001b[0;31m \u001b[0mx\u001b[0m \u001b[0;34m=\u001b[0m \u001b[0mnp\u001b[0m\u001b[0;34m.\u001b[0m\u001b[0mlinspace\u001b[0m\u001b[0;34m(\u001b[0m\u001b[0;36m0\u001b[0m\u001b[0;34m,\u001b[0m \u001b[0;36m2\u001b[0m \u001b[0;34m*\u001b[0m \u001b[0mnp\u001b[0m\u001b[0;34m.\u001b[0m\u001b[0mpi\u001b[0m\u001b[0;34m)\u001b[0m\u001b[0;34m\u001b[0m\u001b[0;34m\u001b[0m\u001b[0m\n\u001b[0m\u001b[1;32m      4\u001b[0m \u001b[0moffsets\u001b[0m \u001b[0;34m=\u001b[0m \u001b[0mnp\u001b[0m\u001b[0;34m.\u001b[0m\u001b[0mlinspace\u001b[0m\u001b[0;34m(\u001b[0m\u001b[0;36m0\u001b[0m\u001b[0;34m,\u001b[0m \u001b[0;36m2\u001b[0m\u001b[0;34m*\u001b[0m\u001b[0mnp\u001b[0m\u001b[0;34m.\u001b[0m\u001b[0mpi\u001b[0m\u001b[0;34m,\u001b[0m \u001b[0;36m4\u001b[0m\u001b[0;34m,\u001b[0m \u001b[0mendpoint\u001b[0m\u001b[0;34m=\u001b[0m\u001b[0;32mFalse\u001b[0m\u001b[0;34m)\u001b[0m\u001b[0;34m\u001b[0m\u001b[0;34m\u001b[0m\u001b[0m\n\u001b[1;32m      5\u001b[0m \u001b[0;31m# Create array with shifted-sine curve along each column\u001b[0m\u001b[0;34m\u001b[0m\u001b[0;34m\u001b[0m\u001b[0;34m\u001b[0m\u001b[0m\n",
      "\u001b[0;31mNameError\u001b[0m: name 'np' is not defined"
     ]
    }
   ],
   "metadata": {}
  }
 ],
 "metadata": {
  "interpreter": {
   "hash": "08637a5875d59dc179ebb85fd573b0ad75e3bcc857024a473548c88883002c95"
  },
  "kernelspec": {
   "name": "python3",
   "display_name": "Python 3.9.5 64-bit ('cmaps': conda)"
  },
  "language_info": {
   "codemirror_mode": {
    "name": "ipython",
    "version": 3
   },
   "file_extension": ".py",
   "mimetype": "text/x-python",
   "name": "python",
   "nbconvert_exporter": "python",
   "pygments_lexer": "ipython3",
   "version": "3.9.5"
  },
  "orig_nbformat": 4
 },
 "nbformat": 4,
 "nbformat_minor": 2
}