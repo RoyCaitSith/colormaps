{
 "cells": [
  {
   "cell_type": "code",
   "execution_count": 1,
   "source": [
    "import colormaps as cmaps"
   ],
   "outputs": [],
   "metadata": {}
  },
  {
   "cell_type": "code",
   "execution_count": 2,
   "source": [
    "cmaps.bamako"
   ],
   "outputs": [
    {
     "output_type": "execute_result",
     "data": {
      "text/html": [
       "<div style=\"vertical-align: middle;\"><strong>bamako</strong> </div><div class=\"cmap\"><img alt=\"bamako colormap\" title=\"bamako\" style=\"border: 1px solid #555;\" src=\"data:image/png;base64,iVBORw0KGgoAAAANSUhEUgAAAgAAAABACAYAAABsv8+/AAAAFXRFWHRUaXRsZQBiYW1ha28gY29sb3JtYXCROoCxAAAAG3RFWHREZXNjcmlwdGlvbgBiYW1ha28gY29sb3JtYXDYrZhVAAAAMHRFWHRBdXRob3IATWF0cGxvdGxpYiB2My40LjIsIGh0dHBzOi8vbWF0cGxvdGxpYi5vcmes1mPdAAAAMnRFWHRTb2Z0d2FyZQBNYXRwbG90bGliIHYzLjQuMiwgaHR0cHM6Ly9tYXRwbG90bGliLm9yZ4Jw/PoAAAIDSURBVHic7dZLcqswFEVRSSPLADL/6TiNYLsQvhbQPWt1eAj0SXiV2r39/D5aa623f/35j/Zot8a3+9fzbbz1/f173mK87/er9mmH94r5p9+rznXxvfmch/H597M/z3ubk+v3+ftM68zP784rz7E657nvvN7/+3e9e97D+ZbrFuderl+sU807e47b637fbyzXv/b+qPZt8/NpXvHzH96v5k3Xcfh71aZ95vE+jfeP4+/7+fnY9l2M92p8LMb396/rmNfbX/tY7DPG5/HD/P055vm9ml9c6+f967z6enbe8wMXz9tqnf3z4zrb83Z1/rTvYf61fZ//zwGAIAIAAAIJAAAIJAAAIJAAAIBAAgAAAgkAAAgkAAAgkAAAgEACAAACCQAACCQAACCQAACAQAIAAAIJAAAIJAAAIJAAAIBAAgAAAgkAAAgkAAAgkAAAgEACAAACCQAACCQAACCQAACAQAIAAAIJAAAIJAAAIJAAAIBAAgAAAgkAAAgkAAAgkAAAgEACAAACCQAACCQAACCQAACAQAIAAAIJAAAIJAAAIJAAAIBAAgAAAgkAAAgkAAAgkAAAgEACAAACCQAACCQAACCQAACAQAIAAAIJAAAIJAAAIJAAAIBAAgAAAgkAAAgkAAAgkAAAgEACAAACCQAACCQAACCQAACAQAIAAAIJAAAI9Acp3Ez8kHYsWQAAAABJRU5ErkJggg==\"></div><div style=\"vertical-align: middle; max-width: 514px; display: flex; justify-content: space-between;\"><div style=\"float: left;\"><div title=\"#00404cff\" style=\"display: inline-block; width: 1em; height: 1em; margin: 0; vertical-align: middle; border: 1px solid #555; background-color: #00404cff;\"></div> under</div><div style=\"margin: 0 auto; display: inline-block;\">bad <div title=\"#00000000\" style=\"display: inline-block; width: 1em; height: 1em; margin: 0; vertical-align: middle; border: 1px solid #555; background-color: #00000000;\"></div></div><div style=\"float: right;\">over <div title=\"#ffe599ff\" style=\"display: inline-block; width: 1em; height: 1em; margin: 0; vertical-align: middle; border: 1px solid #555; background-color: #ffe599ff;\"></div></div>"
      ],
      "image/png": "[encoded data removed]",
      "text/plain": [
       "<colormaps.colormap.Colormap at 0x7fda58163a30>"
      ]
     },
     "metadata": {},
     "execution_count": 2
    }
   ],
   "metadata": {}
  },
  {
   "cell_type": "code",
   "execution_count": 5,
   "source": [
    "cmaps.discrete_5_4_section_blue_orange"
   ],
   "outputs": [
    {
     "output_type": "execute_result",
     "data": {
      "text/html": [
       "<div style=\"vertical-align: middle;\"><strong>discrete_5_4_section_blue_orange</strong> </div><div class=\"cmap\"><img alt=\"discrete_5_4_section_blue_orange colormap\" title=\"discrete_5_4_section_blue_orange\" style=\"border: 1px solid #555;\" src=\"data:image/png;base64,iVBORw0KGgoAAAANSUhEUgAAAgAAAABACAYAAABsv8+/AAAAL3RFWHRUaXRsZQBkaXNjcmV0ZV81XzRfc2VjdGlvbl9ibHVlX29yYW5nZSBjb2xvcm1hcGnpPDkAAAA1dEVYdERlc2NyaXB0aW9uAGRpc2NyZXRlXzVfNF9zZWN0aW9uX2JsdWVfb3JhbmdlIGNvbG9ybWFws2EMSQAAADB0RVh0QXV0aG9yAE1hdHBsb3RsaWIgdjMuNC4yLCBodHRwczovL21hdHBsb3RsaWIub3JnrNZj3QAAADJ0RVh0U29mdHdhcmUATWF0cGxvdGxpYiB2My40LjIsIGh0dHBzOi8vbWF0cGxvdGxpYi5vcmeCcPz6AAABR0lEQVR4nO3WMRHCABAAQaBGTSSgIEKoEUERE5lBDCYihbjgi9tVcOVd39/jdyFrve/TCQx6fh7TCQzaltd0AoNu0wEAwP8ZAAAIMgAAEGQAACDIAABAkAEAgCADAABBBgAAggwAAAQZAAAIMgAAEGQAACDIAABAkAEAgCADAABBBgAAggwAAAQZAAAIMgAAEGQAACDIAABAkAEAgCADAABBBgAAggwAAAQZAAAIMgAAEGQAACDIAABAkAEAgCADAABBBgAAggwAAAQZAAAIMgAAEGQAACDIAABAkAEAgCADAABBBgAAggwAAAQZAAAIMgAAEGQAACDIAABAkAEAgCADAABBBgAAggwAAAQZAAAIMgAAEGQAACDIAABAkAEAgCADAABBBgAAggwAAAQZAAAIMgAAEGQAACDIAABAkAEAgCADAABBJ+3rBztO3CLuAAAAAElFTkSuQmCC\"></div><div style=\"vertical-align: middle; max-width: 514px; display: flex; justify-content: space-between;\"><div style=\"float: left;\"><div title=\"#8acadfff\" style=\"display: inline-block; width: 1em; height: 1em; margin: 0; vertical-align: middle; border: 1px solid #555; background-color: #8acadfff;\"></div> under</div><div style=\"margin: 0 auto; display: inline-block;\">bad <div title=\"#00000000\" style=\"display: inline-block; width: 1em; height: 1em; margin: 0; vertical-align: middle; border: 1px solid #555; background-color: #00000000;\"></div></div><div style=\"float: right;\">over <div title=\"#d4ae3aff\" style=\"display: inline-block; width: 1em; height: 1em; margin: 0; vertical-align: middle; border: 1px solid #555; background-color: #d4ae3aff;\"></div></div>"
      ],
      "image/png": "[encoded data removed]",
      "text/plain": [
       "<colormaps.colormap.Colormap at 0x7fda58151e50>"
      ]
     },
     "metadata": {},
     "execution_count": 5
    }
   ],
   "metadata": {}
  },
  {
   "cell_type": "code",
   "execution_count": null,
   "source": [
    "cmaps.Cat12"
   ],
   "outputs": [],
   "metadata": {}
  },
  {
   "cell_type": "code",
   "execution_count": null,
   "source": [
    "cmaps.MPL_Set1"
   ],
   "outputs": [],
   "metadata": {}
  },
  {
   "cell_type": "code",
   "execution_count": null,
   "source": [
    "cmaps.BkBlAqGrYeOrReViWh200"
   ],
   "outputs": [],
   "metadata": {}
  },
  {
   "cell_type": "code",
   "execution_count": null,
   "source": [
    "cmaps.drought_severity"
   ],
   "outputs": [],
   "metadata": {}
  },
  {
   "cell_type": "code",
   "execution_count": null,
   "source": [
    "cmaps.ice"
   ],
   "outputs": [],
   "metadata": {}
  },
  {
   "cell_type": "code",
   "execution_count": null,
   "source": [
    "cmaps.ice.discrete(10)"
   ],
   "outputs": [],
   "metadata": {}
  },
  {
   "cell_type": "code",
   "execution_count": null,
   "source": [
    "import numpy as np\n",
    "import matplotlib.pyplot as plt\n",
    "\n",
    "gradient = np.linspace(0, 1, 256)\n",
    "gradient = np.vstack((gradient, gradient))\n",
    "\n",
    "def plot_color_gradients(cname):\n",
    "    fig, axs = plt.subplots(nrows= 1, figsize=(8, 1.5))\n",
    "    axs.imshow(gradient, aspect='auto', cmap=eval(\"cmaps.\" + cname))\n",
    "\n",
    "    # Turn off *all* ticks & spines, not just the ones with colormaps.\n",
    "    axs.set_axis_off()\n",
    "\n",
    "plot_color_gradients('ice.discrete(10)')\n",
    "plt.savefig('/home/ghost/Documents/colormaps/colormaps_doc/assets/images/demo/ice_discrete_10.png')"
   ],
   "outputs": [],
   "metadata": {}
  },
  {
   "cell_type": "code",
   "execution_count": null,
   "source": [
    "cmaps.ice.shift(0.5)\n",
    "plot_color_gradients('ice.shift(0.5)')\n",
    "plt.savefig('/home/ghost/Documents/colormaps/colormaps_doc/assets/images/demo/ice_shift_0_5.png')"
   ],
   "outputs": [],
   "metadata": {}
  },
  {
   "cell_type": "code",
   "execution_count": null,
   "source": [
    "cmaps.ice.shift(0.5).discrete(10)\n",
    "plot_color_gradients('ice.shift(0.5).discrete(10)')\n",
    "plt.savefig('/home/ghost/Documents/colormaps/colormaps_doc/assets/images/demo/ice_shift_0_5_discrete_10.png')"
   ],
   "outputs": [],
   "metadata": {}
  },
  {
   "cell_type": "code",
   "execution_count": null,
   "source": [
    "cmaps.balance.discrete(11)"
   ],
   "outputs": [],
   "metadata": {}
  },
  {
   "cell_type": "code",
   "execution_count": null,
   "source": [
    "cmaps.ice.discrete(11).cut(0.25, 'left')\n",
    "plot_color_gradients(\"ice.discrete(11).cut(0.25, 'left')\")\n",
    "plt.savefig('/home/ghost/Documents/colormaps/colormaps_doc/assets/images/demo/ice_discrete_11_cut_0.25.png')"
   ],
   "outputs": [],
   "metadata": {}
  },
  {
   "cell_type": "code",
   "execution_count": null,
   "source": [
    "from colormaps.utils import concat\n",
    "concat1 = concat([\"cmocean_ice\", \"BkBlAqGrYeOrReViWh200\"])\n",
    "\n",
    "fig, axs = plt.subplots(nrows= 1, figsize=(8, 1.5))\n",
    "axs.imshow(gradient, aspect='auto', cmap=concat1)\n",
    "axs.set_axis_off()\n",
    "#plot_color_gradients(\"concat1\")\n",
    "plt.savefig('/home/ghost/Documents/colormaps/colormaps_doc/assets/images/demo/concat_1.png')"
   ],
   "outputs": [],
   "metadata": {}
  },
  {
   "cell_type": "code",
   "execution_count": null,
   "source": [
    ", ratios=[0.25,0.75]"
   ],
   "outputs": [],
   "metadata": {}
  },
  {
   "cell_type": "code",
   "execution_count": null,
   "source": [
    "import colormaps as cmaps\n",
    "concat2 = concat([cmaps.cmocean_ice, cmaps.BkBlAqGrYeOrReViWh200], ratios=[0.25,0.75])\n",
    "fig, axs = plt.subplots(nrows= 1, figsize=(8, 1.5))\n",
    "axs.imshow(gradient, aspect='auto', cmap=concat2)\n",
    "axs.set_axis_off()\n",
    "#plot_color_gradients(\"concat1\")\n",
    "plt.savefig('/home/ghost/Documents/colormaps/colormaps_doc/assets/images/demo/concat_2.png')"
   ],
   "outputs": [],
   "metadata": {}
  },
  {
   "cell_type": "code",
   "execution_count": null,
   "source": [
    "from cycler import cycler\n",
    "\n",
    "x = np.linspace(0, 2 * np.pi)\n",
    "offsets = np.linspace(0, 2*np.pi, 4, endpoint=False)\n",
    "# Create array with shifted-sine curve along each column\n",
    "yy = np.transpose([np.sin(x + phi) for phi in offsets])\n",
    "\n",
    "# 1. Setting prop cycle on default rc parameter\n",
    "plt.rc('lines', linewidth=4)\n",
    "plt.rc('axes', prop_cycle=(cycler('color', ['r', 'g', 'b', 'y']) +\n",
    "                           cycler('linestyle', ['-', '--', ':', '-.'])))\n",
    "fig, (ax0, ax1) = plt.subplots(nrows=2)\n",
    "ax0.plot(yy)\n",
    "ax0.set_title('Set default color cycle to rgby')\n",
    "\n",
    "# 2. Define prop cycle for single set of axes\n",
    "#ax1.set_prop_cycle(cycler('color', ['c', 'm', 'y', 'k']) +\n",
    "#                   cycler('lw', [1, 2, 3, 4]))\n",
    "ax1.set_prop_cycle(cycler('color', cmaps.dark2_8.colors))                   \n",
    "ax1.plot(yy)\n",
    "ax1.set_title('Set axes color cycle to cmyk')\n",
    "\n",
    "# Tweak spacing between subplots to prevent labels from overlapping\n",
    "fig.subplots_adjust(hspace=0.5)\n",
    "plt.show()"
   ],
   "outputs": [],
   "metadata": {}
  }
 ],
 "metadata": {
  "interpreter": {
   "hash": "08637a5875d59dc179ebb85fd573b0ad75e3bcc857024a473548c88883002c95"
  },
  "kernelspec": {
   "name": "python3",
   "display_name": "Python 3.9.5 64-bit ('cmaps': conda)"
  },
  "language_info": {
   "codemirror_mode": {
    "name": "ipython",
    "version": 3
   },
   "file_extension": ".py",
   "mimetype": "text/x-python",
   "name": "python",
   "nbconvert_exporter": "python",
   "pygments_lexer": "ipython3",
   "version": "3.9.5"
  },
  "orig_nbformat": 4
 },
 "nbformat": 4,
 "nbformat_minor": 2
}